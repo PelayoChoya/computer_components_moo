{
 "cells": [
  {
   "cell_type": "markdown",
   "metadata": {},
   "source": [
    "# Computer Components MOO Problem\n",
    "\n",
    "The objective of this exercise is to select computer components in order to build a computer satisfying the following objective:"
   ]
  },
  {
   "cell_type": "markdown",
   "metadata": {},
   "source": [
    "$$Minimize\\ [C_t(x),P_t(x)]; \\ Maximize \\ Q_t(x) \\ subject \\ to \\ C_t(x) \\leq 1700; P_t(x) \\leq 2.5; r_i > 2.5$$\n",
    "\n",
    "Where:\n",
    "\n",
    "$$ \\begin{array}{lcl} C_t(x) & =  & \\sum c_i * x_i \\\\ \n",
    "Q_t(x) & = & \\sum (w_i *r_i) * x_i \\\\\n",
    "P_t(x) & = & \\sum p_i * x_i \\end{array} $$\n",
    "\n",
    "Being:\n",
    "- c_i: cost of a component, price\n",
    "- w_i: weight associated to the component type, for calculation purposes, out of 1. See table bellow\n",
    "- r_i: review index, quality\n",
    "- p_i: weight of the component (kg), weight\n",
    "- x_i: mask, 1 if the component is selected, 0 otherwise \n",
    "\n",
    "|Component | w_i   |\n",
    "|----------|-------|\n",
    "|  cpu     | 0.3   |\n",
    "|  disk    | 0.2   |\n",
    "|  board   | 0.1   |\n",
    "|  ram     | 0.3   |\n",
    "|  gpu     | 0.1   |\n",
    "|  Total   |   1   |"
   ]
  },
  {
   "cell_type": "markdown",
   "metadata": {},
   "source": [
    "## Dataset loading and filtering"
   ]
  },
  {
   "cell_type": "code",
   "execution_count": 203,
   "metadata": {},
   "outputs": [
    {
     "name": "stdout",
     "output_type": "stream",
     "text": [
      "  type       price  quality    weight\n",
      "0  cpu  172.158304      3.5  0.258227\n",
      "1  cpu  120.820045      3.0  0.229969\n",
      "2  cpu  131.290487      4.5  0.117316\n",
      "3  cpu  110.145139      3.5  0.204912\n",
      "4  cpu  123.840845      4.5  0.235732\n",
      "(1000, 4)\n"
     ]
    }
   ],
   "source": [
    "import pandas as pd\n",
    "import numpy as np\n",
    "\n",
    "df = pd.read_csv('./delivery/pieces.csv')\n",
    "print(df.head())\n",
    "print(df.shape)"
   ]
  },
  {
   "cell_type": "markdown",
   "metadata": {},
   "source": [
    "One of the requirements of the problem is that:\n",
    "$$ r_i > 2.5 $$\n",
    "For this, elements not satisfying this condition will be removed from the dataset"
   ]
  },
  {
   "cell_type": "code",
   "execution_count": 204,
   "metadata": {},
   "outputs": [
    {
     "name": "stdout",
     "output_type": "stream",
     "text": [
      "(792, 4)\n",
      "3.75126262626\n"
     ]
    }
   ],
   "source": [
    "df.drop(df[df.quality <= 2.5].index, inplace=True)\n",
    "print(df.shape)\n",
    "print(df.quality.mean())"
   ]
  },
  {
   "cell_type": "markdown",
   "metadata": {},
   "source": [
    "Besides, each of the components quality will be multiplied by the weight related to that component importance.\n",
    "The weight per component is displayed in the Table above."
   ]
  },
  {
   "cell_type": "code",
   "execution_count": 205,
   "metadata": {},
   "outputs": [
    {
     "name": "stdout",
     "output_type": "stream",
     "text": [
      "0.749494949495\n"
     ]
    }
   ],
   "source": [
    "components_weights = {'cpu':0.3, 'disk':0.2, 'board':0.1, 'ram':0.3, 'gpu': 0.1}\n",
    "\n",
    "for component, weight in components_weights.items():\n",
    "    index = df.loc[df['type'] == component].index\n",
    "    df.loc[index[0]:index[len(index)-1],'quality'] *= weight\n",
    "print(df.quality.mean())"
   ]
  },
  {
   "cell_type": "markdown",
   "metadata": {},
   "source": [
    "## Problem definition and solving"
   ]
  },
  {
   "cell_type": "markdown",
   "metadata": {},
   "source": [
    "First the objective functions used in the problem are defined:"
   ]
  },
  {
   "cell_type": "code",
   "execution_count": 206,
   "metadata": {},
   "outputs": [],
   "source": [
    "def obtain_selected_vars_no(selected_vars):\n",
    "    ''' This function returns the total\n",
    "        selected vars number '''\n",
    "    return sum([1 if selected_vars[i] else 0 for i in range(len(selected_vars))])"
   ]
  },
  {
   "cell_type": "code",
   "execution_count": 207,
   "metadata": {},
   "outputs": [],
   "source": [
    "def calculate_total_weight(selected_vars, input_df):\n",
    "    ''' This function returns the total weight'''\n",
    "    weights_array = input_df.loc[df['type'] == 'cpu'].weight.values.tolist()\n",
    "    return sum([weights_array[i] if selected_vars[i] else 0 for i in range(len(selected_vars))])"
   ]
  },
  {
   "cell_type": "code",
   "execution_count": 208,
   "metadata": {},
   "outputs": [],
   "source": [
    "def calculate_total_cost(selected_vars, input_df):\n",
    "    ''' This function returns the total cost '''\n",
    "    costs_array = input_df.loc[df['type'] == 'cpu'].price.values.tolist()\n",
    "    return sum([costs_array[i] if selected_vars[i] else 0 for i in range(len(selected_vars))])"
   ]
  },
  {
   "cell_type": "code",
   "execution_count": 209,
   "metadata": {},
   "outputs": [],
   "source": [
    "def calculate_total_quality(selected_vars, input_df):\n",
    "    ''' This function returns the total quality '''\n",
    "    quality_array = input_df.loc[df['type'] == 'cpu'].quality.values.tolist()\n",
    "    return sum([quality_array[i] if selected_vars[i] else 0 for i in range(len(selected_vars))])"
   ]
  },
  {
   "cell_type": "markdown",
   "metadata": {},
   "source": [
    "Then, the function handling the problem's logic is defined:"
   ]
  },
  {
   "cell_type": "code",
   "execution_count": 214,
   "metadata": {},
   "outputs": [],
   "source": [
    "from platypus import NSGAII, Problem, Constraint, Binary, nondominated, unique\n",
    "import functools\n",
    "    \n",
    "def computer_components_problem(x, arg1):\n",
    "    ''' This function defines the logic of the \n",
    "        computer components selection problem '''\n",
    "    selection = x[0]\n",
    "    no_items_selected = obtain_selected_vars_no(selection)\n",
    "    total_quality = calculate_total_quality(selection, arg1)\n",
    "    total_weight = calculate_total_weight(selection, arg1)\n",
    "    total_cost = calculate_total_cost(selection, arg1)\n",
    "    \n",
    "    \n",
    "    return [total_quality,total_weight,total_cost] , [total_weight, no_items_selected, total_cost]"
   ]
  },
  {
   "cell_type": "markdown",
   "metadata": {},
   "source": [
    "In this step the data is obtained:"
   ]
  },
  {
   "cell_type": "code",
   "execution_count": 215,
   "metadata": {},
   "outputs": [],
   "source": [
    "items = df.loc[df['type'] == 'cpu'].price.size\n",
    "max_weight = 2.5\n",
    "max_cost = 1700\n",
    "no_items = 1\n",
    "weights = np.arange(items)\n",
    "cost = np.arange(items)\n",
    "quality = np.arange(items)"
   ]
  },
  {
   "cell_type": "markdown",
   "metadata": {},
   "source": [
    "Now, the problem is defined:"
   ]
  },
  {
   "cell_type": "code",
   "execution_count": 216,
   "metadata": {},
   "outputs": [],
   "source": [
    "problem = Problem(1, 3, 3)\n",
    "problem.types[0] = Binary(items)\n",
    "problem.directions[0] = Problem.MAXIMIZE\n",
    "problem.directions[1:] = Problem.MINIMIZE\n",
    "problem.constraints[0] = Constraint(\"<=\", max_weight)\n",
    "problem.constraints[1] = Constraint(\"==\", no_items)\n",
    "problem.constraints[2] = Constraint(\"<=\", max_cost)\n",
    "problem.function = functools.partial(computer_components_problem, arg1=df)"
   ]
  },
  {
   "cell_type": "code",
   "execution_count": 217,
   "metadata": {},
   "outputs": [
    {
     "name": "stdout",
     "output_type": "stream",
     "text": [
      "[[False, False, False, False, False, False, False, False, False, False, False, False, False, False, False, False, False, False, False, False, False, False, False, False, False, False, False, False, False, False, False, False, False, False, False, False, False, False, False, False, False, False, False, False, False, False, False, False, True, False, False, False, False, False, False, False, False, False, False, False, False, False, False, False, False, False, False, False, False, False, False, False, False, False, False, False, False, False, False, False, False, False, False, False, False, False, False, False, False, False, False, False, False, False, False, False, False, False, False, False, False, False, False, False, False, False, False, False, False, False, False, False, False, False, False, False, False, False, False, False, False, False, False, False, False, False, False, False, False, False, False, False, False, False, False, False, False, False, False, False, False, False, False, False, False, False, False, False, False, False, False, False, False, False, False, False, False, False, False, False]] [1.05, 0.10251019162883104, 17.091811594945995]\n",
      "[[False, False, False, False, False, False, False, False, False, False, False, False, False, False, False, False, False, False, False, False, False, False, False, False, False, False, False, False, False, False, False, False, False, False, False, False, False, False, False, False, False, False, False, False, False, False, False, False, False, False, False, False, False, False, False, False, False, False, False, False, False, False, False, False, False, False, False, False, False, False, False, False, False, False, False, False, False, False, False, False, False, False, False, False, False, False, False, False, False, False, False, False, False, False, False, False, False, False, True, False, False, False, False, False, False, False, False, False, False, False, False, False, False, False, False, False, False, False, False, False, False, False, False, False, False, False, False, False, False, False, False, False, False, False, False, False, False, False, False, False, False, False, False, False, False, False, False, False, False, False, False, False, False, False, False, False, False, False, False, False]] [1.3499999999999999, 0.11319093587094005, 148.33631167890712]\n",
      "[[False, False, False, False, False, False, False, False, False, False, False, False, False, False, False, False, False, False, False, False, False, False, False, False, False, False, False, False, False, False, False, False, False, False, False, False, False, False, False, False, False, False, False, False, False, False, False, False, False, False, False, True, False, False, False, False, False, False, False, False, False, False, False, False, False, False, False, False, False, False, False, False, False, False, False, False, False, False, False, False, False, False, False, False, False, False, False, False, False, False, False, False, False, False, False, False, False, False, False, False, False, False, False, False, False, False, False, False, False, False, False, False, False, False, False, False, False, False, False, False, False, False, False, False, False, False, False, False, False, False, False, False, False, False, False, False, False, False, False, False, False, False, False, False, False, False, False, False, False, False, False, False, False, False, False, False, False, False, False, False]] [1.3499999999999999, 0.2644922155016135, 80.33108571236987]\n",
      "[[False, False, False, False, False, False, False, False, False, False, False, False, False, False, False, False, False, False, False, True, False, False, False, False, False, False, False, False, False, False, False, False, False, False, False, False, False, False, False, False, False, False, False, False, False, False, False, False, False, False, False, False, False, False, False, False, False, False, False, False, False, False, False, False, False, False, False, False, False, False, False, False, False, False, False, False, False, False, False, False, False, False, False, False, False, False, False, False, False, False, False, False, False, False, False, False, False, False, False, False, False, False, False, False, False, False, False, False, False, False, False, False, False, False, False, False, False, False, False, False, False, False, False, False, False, False, False, False, False, False, False, False, False, False, False, False, False, False, False, False, False, False, False, False, False, False, False, False, False, False, False, False, False, False, False, False, False, False, False, False]] [1.2, 0.1024145017084802, 120.86012790762943]\n",
      "[[False, False, False, False, False, False, False, False, False, False, False, False, False, False, False, False, False, False, False, False, False, False, False, False, False, False, False, False, False, False, False, False, False, False, False, False, False, False, False, False, False, False, False, False, False, False, False, False, False, False, False, False, False, False, False, False, False, False, False, False, False, False, False, False, False, False, False, False, False, False, True, False, False, False, False, False, False, False, False, False, False, False, False, False, False, False, False, False, False, False, False, False, False, False, False, False, False, False, False, False, False, False, False, False, False, False, False, False, False, False, False, False, False, False, False, False, False, False, False, False, False, False, False, False, False, False, False, False, False, False, False, False, False, False, False, False, False, False, False, False, False, False, False, False, False, False, False, False, False, False, False, False, False, False, False, False, False, False, False, False]] [1.3499999999999999, 0.13223268383550535, 129.0363627464858]\n",
      "[[False, False, False, False, False, False, False, False, False, False, False, False, False, False, False, False, False, False, False, False, False, False, False, False, False, False, False, False, False, False, False, False, False, False, False, False, False, False, False, False, False, False, False, False, False, False, False, False, False, False, False, False, False, False, False, False, False, False, False, False, False, False, False, False, False, False, False, False, False, False, False, False, False, False, False, False, False, False, False, False, False, False, False, False, False, False, False, False, False, False, False, False, False, False, False, False, False, False, False, False, False, False, False, False, False, False, False, False, False, False, False, False, False, False, False, False, False, False, False, False, False, False, False, False, False, False, False, False, False, False, False, False, False, False, False, False, False, False, False, False, False, False, False, False, False, False, False, False, False, False, False, False, False, False, False, True, False, False, False, False]] [1.2, 0.16969162740087695, 66.01415657800024]\n",
      "[[False, False, False, False, False, False, False, False, False, False, False, False, False, False, False, False, False, False, False, False, False, False, False, False, False, False, False, False, False, False, False, False, False, False, False, False, False, False, False, False, False, False, False, False, False, False, False, False, False, False, False, False, False, False, False, False, False, False, False, False, False, False, False, False, False, False, False, False, False, False, False, False, False, False, False, False, False, False, False, False, True, False, False, False, False, False, False, False, False, False, False, False, False, False, False, False, False, False, False, False, False, False, False, False, False, False, False, False, False, False, False, False, False, False, False, False, False, False, False, False, False, False, False, False, False, False, False, False, False, False, False, False, False, False, False, False, False, False, False, False, False, False, False, False, False, False, False, False, False, False, False, False, False, False, False, False, False, False, False, False]] [1.3499999999999999, 0.13762071083140526, 97.13908859914828]\n",
      "[[False, False, False, False, False, False, False, False, False, False, False, False, False, False, False, False, False, False, False, False, False, False, False, False, False, False, False, False, False, False, False, False, False, False, False, False, False, False, False, False, False, False, False, False, False, False, False, False, False, False, False, False, False, False, False, False, False, False, False, False, False, False, False, False, False, False, False, False, False, False, False, False, False, False, False, False, False, False, False, False, False, False, False, False, False, False, False, False, False, False, False, False, False, False, False, False, False, False, False, False, False, True, False, False, False, False, False, False, False, False, False, False, False, False, False, False, False, False, False, False, False, False, False, False, False, False, False, False, False, False, False, False, False, False, False, False, False, False, False, False, False, False, False, False, False, False, False, False, False, False, False, False, False, False, False, False, False, False, False, False]] [1.2, 0.10863648037193242, 113.8958498699285]\n",
      "[[False, False, False, False, False, False, False, False, False, False, False, False, False, False, False, False, False, False, False, False, False, False, False, False, False, False, False, False, False, False, False, False, False, False, False, False, False, False, False, False, False, False, False, False, False, False, False, False, False, False, False, False, False, False, False, False, False, False, False, False, False, False, False, False, False, False, False, False, False, False, False, False, False, False, False, False, False, False, False, False, False, False, True, False, False, False, False, False, False, False, False, False, False, False, False, False, False, False, False, False, False, False, False, False, False, False, False, False, False, False, False, False, False, False, False, False, False, False, False, False, False, False, False, False, False, False, False, False, False, False, False, False, False, False, False, False, False, False, False, False, False, False, False, False, False, False, False, False, False, False, False, False, False, False, False, False, False, False, False, False]] [1.2, 0.13302424788875142, 93.02502291835363]\n",
      "[[False, False, True, False, False, False, False, False, False, False, False, False, False, False, False, False, False, False, False, False, False, False, False, False, False, False, False, False, False, False, False, False, False, False, False, False, False, False, False, False, False, False, False, False, False, False, False, False, False, False, False, False, False, False, False, False, False, False, False, False, False, False, False, False, False, False, False, False, False, False, False, False, False, False, False, False, False, False, False, False, False, False, False, False, False, False, False, False, False, False, False, False, False, False, False, False, False, False, False, False, False, False, False, False, False, False, False, False, False, False, False, False, False, False, False, False, False, False, False, False, False, False, False, False, False, False, False, False, False, False, False, False, False, False, False, False, False, False, False, False, False, False, False, False, False, False, False, False, False, False, False, False, False, False, False, False, False, False, False, False]] [1.3499999999999999, 0.117316457751241, 131.29048710693684]\n"
     ]
    }
   ],
   "source": [
    "algorithm = NSGAII(problem)\n",
    "algorithm.run(10000)\n",
    "\n",
    "for solution in unique(nondominated(algorithm.result)):\n",
    "    print(solution.variables, solution.objectives)"
   ]
  },
  {
   "cell_type": "code",
   "execution_count": null,
   "metadata": {},
   "outputs": [],
   "source": []
  }
 ],
 "metadata": {
  "kernelspec": {
   "display_name": "Python 3",
   "language": "python",
   "name": "python3"
  },
  "language_info": {
   "codemirror_mode": {
    "name": "ipython",
    "version": 3
   },
   "file_extension": ".py",
   "mimetype": "text/x-python",
   "name": "python",
   "nbconvert_exporter": "python",
   "pygments_lexer": "ipython3",
   "version": "3.6.4"
  }
 },
 "nbformat": 4,
 "nbformat_minor": 2
}
