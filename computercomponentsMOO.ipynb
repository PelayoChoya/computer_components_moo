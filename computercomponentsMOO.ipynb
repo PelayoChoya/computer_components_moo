{
 "cells": [
  {
   "cell_type": "markdown",
   "metadata": {},
   "source": [
    "# Computer Components MOO Problem\n",
    "\n",
    "The objective of this exercise is to select computer components in order to build a computer satisfying the following objective:"
   ]
  },
  {
   "cell_type": "markdown",
   "metadata": {},
   "source": [
    "$$Minimize\\ [C_t(x),P_t(x)]; \\ Maximize \\ Q_t(x) \\ subject \\ to \\ C_t(x) \\leq 1700; P_t(x) \\leq 2.5; r_i > 2.5$$\n",
    "\n",
    "Where:\n",
    "\n",
    "$$ \\begin{array}{lcl} C_t(x) & =  & \\sum c_i * x_i \\\\ \n",
    "Q_t(x) & = & \\sum (w_i *r_i) * x_i \\\\\n",
    "P_t(x) & = & \\sum p_i * x_i \\end{array} $$\n",
    "\n",
    "Being:\n",
    "- c_i: cost of a component, price\n",
    "- w_i: weight associated to the component type, for calculation purposes, out of 1. See table bellow\n",
    "- r_i: review index, quality\n",
    "- p_i: weight of the component (kg), weight\n",
    "- x_i: mask, 1 if the component is selected, 0 otherwise \n",
    "\n",
    "|Component | w_i   |\n",
    "|----------|-------|\n",
    "|  cpu     | 0.3   |\n",
    "|  disk    | 0.2   |\n",
    "|  board   | 0.1   |\n",
    "|  ram     | 0.3   |\n",
    "|  gpu     | 0.1   |\n",
    "|  Total   |   1   |"
   ]
  },
  {
   "cell_type": "markdown",
   "metadata": {},
   "source": []
  },
  {
   "cell_type": "markdown",
   "metadata": {},
   "source": [
    "## Dataset loading and filtering"
   ]
  },
  {
   "cell_type": "code",
   "execution_count": 1,
   "metadata": {},
   "outputs": [
    {
     "name": "stdout",
     "output_type": "stream",
     "text": [
      "  type       price  quality    weight\n",
      "0  cpu  172.158304      3.5  0.258227\n",
      "1  cpu  120.820045      3.0  0.229969\n",
      "2  cpu  131.290487      4.5  0.117316\n",
      "3  cpu  110.145139      3.5  0.204912\n",
      "4  cpu  123.840845      4.5  0.235732\n",
      "(1000, 4)\n"
     ]
    }
   ],
   "source": [
    "import pandas as pd\n",
    "\n",
    "df = pd.read_csv('./delivery/pieces.csv')\n",
    "print(df.head())\n",
    "print(df.shape)"
   ]
  },
  {
   "cell_type": "markdown",
   "metadata": {},
   "source": [
    "One of the requirements of the problem is that:\n",
    "$$ r_i > 2.5 $$\n",
    "For this, elements not satisfying this condition will be removed from the dataset"
   ]
  },
  {
   "cell_type": "code",
   "execution_count": 2,
   "metadata": {},
   "outputs": [
    {
     "name": "stdout",
     "output_type": "stream",
     "text": [
      "(792, 4)\n",
      "            price     quality      weight\n",
      "count  792.000000  792.000000  792.000000\n",
      "mean   230.121710    3.751263    0.249275\n",
      "std    128.266797    0.567781    0.086155\n",
      "min     17.091812    3.000000    0.100609\n",
      "25%    136.895647    3.000000    0.174929\n",
      "50%    180.004637    4.000000    0.245327\n",
      "75%    295.520759    4.500000    0.324295\n",
      "max    671.883945    4.500000    0.399811\n"
     ]
    }
   ],
   "source": [
    "df.drop(df[df.quality <= 2.5].index, inplace=True)\n",
    "print(df.shape)\n",
    "print(df.describe())"
   ]
  },
  {
   "cell_type": "markdown",
   "metadata": {},
   "source": [
    "## Problem definition and solving"
   ]
  },
  {
   "cell_type": "markdown",
   "metadata": {},
   "source": [
    "First the objective functions used in the problem are defined:"
   ]
  },
  {
   "cell_type": "code",
   "execution_count": 3,
   "metadata": {},
   "outputs": [],
   "source": [
    "def obtain_selected_vars_no(selected_vars):\n",
    "    ''' This function returns the total\n",
    "        selected vars number '''\n",
    "    return sum([1 if selected_vars[i] else 0 for i in range(len(selected_vars))])"
   ]
  },
  {
   "cell_type": "code",
   "execution_count": 4,
   "metadata": {},
   "outputs": [],
   "source": [
    "def calculate_total_weight(selected_vars, weights_array):\n",
    "    ''' This function returns the total weight'''\n",
    "    return sum([weights_array[i] if selected_vars[i] else 0 for i in range(len(selected_vars))])"
   ]
  },
  {
   "cell_type": "code",
   "execution_count": 5,
   "metadata": {},
   "outputs": [],
   "source": [
    "def calculate_total_cost(selected_vars, costs_array):\n",
    "    ''' This function returns the total cost '''\n",
    "    return sum([costs_array[i] if selected_vars[i] else 0 for i in range(len(selected_vars))])"
   ]
  },
  {
   "cell_type": "code",
   "execution_count": 6,
   "metadata": {},
   "outputs": [],
   "source": [
    "def calculate_total_quality(selected_vars, quality_array):\n",
    "    ''' This function returns the total quality '''\n",
    "    return sum([quality_array[i] if selected_vars[i] else 0 for i in range(len(selected_vars))])"
   ]
  },
  {
   "cell_type": "markdown",
   "metadata": {},
   "source": [
    "Then, the function handling the problem's logic is defined:"
   ]
  },
  {
   "cell_type": "code",
   "execution_count": 7,
   "metadata": {},
   "outputs": [],
   "source": [
    "from platypus import NSGAII, Problem, Constraint, Binary, nondominated, unique\n",
    "import functools\n",
    "    \n",
    "def computer_components_problem(x, arg1, arg2, arg3):\n",
    "    ''' This function defines the logic of the \n",
    "        computer components selection problem '''\n",
    "    selection = x[0]\n",
    "    no_items_selected = obtain_selected_vars_no(selection)\n",
    "    total_quality = calculate_total_quality(selection, arg3)\n",
    "    total_weight = calculate_total_weight(selection, arg1)\n",
    "    total_cost = calculate_total_cost(selection, arg2)\n",
    "    \n",
    "    \n",
    "    return [total_quality,total_weight,total_cost] , [total_weight, no_items_selected, total_cost]"
   ]
  },
  {
   "cell_type": "markdown",
   "metadata": {},
   "source": [
    "In this step the data is obtained:"
   ]
  },
  {
   "cell_type": "code",
   "execution_count": 10,
   "metadata": {},
   "outputs": [],
   "source": [
    "items = 7\n",
    "max_weight = 9\n",
    "max_cost = 15\n",
    "no_items = 2\n",
    "weights = [2, 3, 6, 7, 5, 9, 4]\n",
    "cost = [6, 5, 8, 9, 6, 7, 3]\n",
    "quality = [3, 5, 4, 2, 1, 1, 5]"
   ]
  },
  {
   "cell_type": "markdown",
   "metadata": {},
   "source": [
    "Now, the problem is defined:"
   ]
  },
  {
   "cell_type": "code",
   "execution_count": 11,
   "metadata": {},
   "outputs": [],
   "source": [
    "problem = Problem(1, 3, 3)\n",
    "problem.types[0] = Binary(items)\n",
    "problem.directions[0] = Problem.MAXIMIZE\n",
    "problem.directions[1:] = Problem.MINIMIZE\n",
    "problem.constraints[0] = Constraint(\"<=\", max_weight)\n",
    "problem.constraints[1] = Constraint(\"<=\", no_items)\n",
    "problem.constraints[2] = Constraint(\"<=\", max_cost)\n",
    "problem.function = functools.partial(computer_components_problem, arg1=weights, arg2=cost, arg3 = quality)"
   ]
  },
  {
   "cell_type": "code",
   "execution_count": 12,
   "metadata": {},
   "outputs": [
    {
     "name": "stdout",
     "output_type": "stream",
     "text": [
      "[[False, False, False, False, False, False, False]] [0, 0, 0]\n",
      "[[False, True, False, False, False, False, True]] [10, 7, 8]\n",
      "[[True, True, False, False, False, False, False]] [8, 5, 11]\n",
      "[[True, False, False, False, False, False, False]] [3, 2, 6]\n",
      "[[False, False, False, False, False, False, True]] [5, 4, 3]\n",
      "[[True, False, False, False, False, False, True]] [8, 6, 9]\n",
      "[[False, True, False, False, False, False, False]] [5, 3, 5]\n"
     ]
    }
   ],
   "source": [
    "algorithm = NSGAII(problem)\n",
    "algorithm.run(10000)\n",
    "\n",
    "for solution in unique(nondominated(algorithm.result)):\n",
    "    print(solution.variables, solution.objectives)"
   ]
  },
  {
   "cell_type": "code",
   "execution_count": null,
   "metadata": {},
   "outputs": [],
   "source": []
  }
 ],
 "metadata": {
  "kernelspec": {
   "display_name": "Python 3",
   "language": "python",
   "name": "python3"
  },
  "language_info": {
   "codemirror_mode": {
    "name": "ipython",
    "version": 3
   },
   "file_extension": ".py",
   "mimetype": "text/x-python",
   "name": "python",
   "nbconvert_exporter": "python",
   "pygments_lexer": "ipython3",
   "version": "3.6.4"
  }
 },
 "nbformat": 4,
 "nbformat_minor": 2
}
